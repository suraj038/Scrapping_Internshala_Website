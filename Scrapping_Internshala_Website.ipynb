{
 "cells": [
  {
   "cell_type": "code",
   "execution_count": null,
   "metadata": {},
   "outputs": [],
   "source": [
    "#scrapping all the 10 pages from internshala website\n",
    "import pandas\n",
    "import requests\n",
    "from bs4 import BeautifulSoup\n",
    "print('--------------------------I N T E R N S H I P S--------------------------')\n",
    "abc = input(\"Enter the Minimum Stipend You Want :\")\n",
    "list_rest = []\n",
    "for i in range(1,11):\n",
    "    \n",
    "    response = requests.get(\"https://internshala.com/internships/page-{}\".format(i))\n",
    "    content = response.content\n",
    "    soup = BeautifulSoup(content,\"html.parser\")\n",
    "    top_rest = soup.find_all(\"div\",attrs={\"class\": \"table-cell\"})\n",
    "    list_tr = soup.find_all(\"div\",attrs={\"class\": \"internship_meta\"})\n",
    "    for tr in list_tr:\n",
    "        \n",
    "        if abc >= (tr.find(\"td\",attrs={\"class\":\"stipend_container_table_cell\"})).text:\n",
    "            \n",
    "                \n",
    "            dataframe ={}\n",
    "            dataframe[\"NAME:\"] = (tr.find(\"a\")).text.replace('', '')\n",
    "            dataframe[\"ADDRESS:\"] = (tr.find(\"a\",attrs={\"class\": \"location_link\"})).text.replace('\\n', '')\n",
    "            dataframe[\"PRICE:\"] = (tr.find(\"td\",attrs={\"class\":\"stipend_container_table_cell\"})).text.replace('', '')\n",
    "            #print(dataframe)\n",
    "            list_rest.append(dataframe)\n",
    "        else:\n",
    "            continue\n",
    "        \n",
    "         \n",
    "df = pandas.DataFrame(list_rest)\n",
    "df.to_csv(\" A\",index=True)\n",
    "df.head()"
   ]
  }
 ],
 "metadata": {
  "kernelspec": {
   "display_name": "Python 3",
   "language": "python",
   "name": "python3"
  },
  "language_info": {
   "codemirror_mode": {
    "name": "ipython",
    "version": 3
   },
   "file_extension": ".py",
   "mimetype": "text/x-python",
   "name": "python",
   "nbconvert_exporter": "python",
   "pygments_lexer": "ipython3",
   "version": "3.6.7"
  }
 },
 "nbformat": 4,
 "nbformat_minor": 2
}
